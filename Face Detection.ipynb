{
 "cells": [
  {
   "cell_type": "markdown",
   "id": "40416a4e",
   "metadata": {},
   "source": [
    "# <center> FACE DETECTION <center>"
   ]
  },
  {
   "cell_type": "markdown",
   "id": "3f45de2d",
   "metadata": {},
   "source": [
    "Face detection is a computer technology being used in a variety of applications that\n",
    "identifies human faces in digital images. Face detection can be regarded as a specific case of\n",
    "object-class detection, which focuses on the detection of frontal human faces. Because faces \n",
    "are so complicated, there isn’t a straightforward test that will tell if we found a face or not.\n",
    "Instead, thousands of small patterns and features must be matched for accurate facial detection."
   ]
  },
  {
   "cell_type": "markdown",
   "id": "27641443",
   "metadata": {},
   "source": [
    "### Question:\n",
    "Implement a face tracking algorithm using haar cascade algorithm and opencv. Using haar\n",
    "cascade, first implement a face detection algorithm that counts the total number of faces \n",
    "present in any given frame. Write the total number of faces detected on the top left of the \n",
    "image. Further modify the code to track the face if only one face is detected. Make sure that \n",
    "you draw the bounding box corresponding to all video frames. Note: you may need to fine \n",
    "tune the parameters for Haar Cascade Classifier to get optimal results and remove false \n",
    "positives"
   ]
  },
  {
   "cell_type": "markdown",
   "id": "c1f53adb",
   "metadata": {},
   "source": [
    "### Procedure:\n",
    "- import libraries\n",
    "- Load the pre-trained Haar Cascade classifier for face detection\n",
    "- Initialize the video capture\n",
    "- Convert the frame to grayscale for face detection\n",
    "-  Perform face detection\n",
    "-  Draw bounding boxes around the detected faces and count them\n",
    "- Display the number of faces detected in the top left corner of the frame\n",
    "- Display the frame\n",
    "- Exit loop if 'q' key is pressed\n",
    "- Release the video capture and close all OpenCV windows"
   ]
  },
  {
   "cell_type": "code",
   "execution_count": 1,
   "id": "9618cf97",
   "metadata": {},
   "outputs": [],
   "source": [
    "import cv2\n",
    "\n",
    "# Load the pre-trained Haar Cascade classifier for face detection\n",
    "face_cascade = cv2.CascadeClassifier(cv2.data.haarcascades + 'haarcascade_frontalface_default.xml')\n",
    "\n",
    "# Initialize the video capture\n",
    "cap = cv2.VideoCapture(0)  # You can replace 0 with the path to a video file\n",
    "\n",
    "while True:\n",
    "    # Read a frame from the video capture\n",
    "    ret, frame = cap.read()\n",
    "    if not ret:\n",
    "        break\n",
    "\n",
    "    # Convert the frame to grayscale for face detection\n",
    "    gray = cv2.cvtColor(frame, cv2.COLOR_BGR2GRAY)\n",
    "\n",
    "    # Perform face detection\n",
    "    faces = face_cascade.detectMultiScale(gray, scaleFactor=1.1, minNeighbors=5, minSize=(30, 30))\n",
    "\n",
    "    # Draw bounding boxes around the detected faces and count them\n",
    "    num_faces = len(faces)\n",
    "    for (x, y, w, h) in faces:\n",
    "        cv2.rectangle(frame, (x, y), (x + w, y + h), (0, 255, 0), 2)\n",
    "\n",
    "    # Display the number of faces detected in the top left corner of the frame\n",
    "    cv2.putText(frame, f'Faces: {num_faces}', (10, 30), cv2.FONT_HERSHEY_SIMPLEX, 1, (0, 255, 0), 2)\n",
    "\n",
    "    # Display the frame\n",
    "    cv2.imshow('Face Tracking', frame)\n",
    "\n",
    "    # Exit loop if 'q' key is pressed\n",
    "    if cv2.waitKey(1) & 0xFF == ord('q'):\n",
    "        break\n",
    "\n",
    "# Release the video capture and close all OpenCV windows\n",
    "cap.release()\n",
    "cv2.destroyAllWindows()\n"
   ]
  }
 ],
 "metadata": {
  "kernelspec": {
   "display_name": "Python 3 (ipykernel)",
   "language": "python",
   "name": "python3"
  },
  "language_info": {
   "codemirror_mode": {
    "name": "ipython",
    "version": 3
   },
   "file_extension": ".py",
   "mimetype": "text/x-python",
   "name": "python",
   "nbconvert_exporter": "python",
   "pygments_lexer": "ipython3",
   "version": "3.10.9"
  }
 },
 "nbformat": 4,
 "nbformat_minor": 5
}
